{
 "cells": [
  {
   "cell_type": "code",
   "execution_count": 45,
   "metadata": {},
   "outputs": [
    {
     "ename": "NameError",
     "evalue": "name 'RedditComments' is not defined",
     "output_type": "error",
     "traceback": [
      "\u001b[1;31m---------------------------------------------------------------------------\u001b[0m",
      "\u001b[1;31mNameError\u001b[0m                                 Traceback (most recent call last)",
      "\u001b[1;32m<ipython-input-45-58a77a8a160c>\u001b[0m in \u001b[0;36m<module>\u001b[1;34m\u001b[0m\n\u001b[0;32m     18\u001b[0m \u001b[1;33m\u001b[0m\u001b[0m\n\u001b[0;32m     19\u001b[0m     \u001b[1;31m# Create object to load comments, perform linear regression\u001b[0m\u001b[1;33m\u001b[0m\u001b[1;33m\u001b[0m\u001b[1;33m\u001b[0m\u001b[0m\n\u001b[1;32m---> 20\u001b[1;33m \u001b[0mredcoms\u001b[0m \u001b[1;33m=\u001b[0m \u001b[0mp1\u001b[0m\u001b[1;33m.\u001b[0m\u001b[0mRedditComments\u001b[0m\u001b[1;33m(\u001b[0m\u001b[0mRedditComments\u001b[0m\u001b[1;33m)\u001b[0m\u001b[1;33m\u001b[0m\u001b[1;33m\u001b[0m\u001b[0m\n\u001b[0m\u001b[0;32m     21\u001b[0m \u001b[0mredcoms\u001b[0m\u001b[1;33m.\u001b[0m\u001b[0mload\u001b[0m\u001b[1;33m(\u001b[0m\u001b[1;33m)\u001b[0m\u001b[1;33m\u001b[0m\u001b[1;33m\u001b[0m\u001b[0m\n\u001b[0;32m     22\u001b[0m \u001b[1;33m\u001b[0m\u001b[0m\n",
      "\u001b[1;31mNameError\u001b[0m: name 'RedditComments' is not defined"
     ]
    }
   ],
   "source": [
    "import proj1_data_loading as p1\n",
    "import json \n",
    "import collections\n",
    "import numpy as np\n",
    "import argparse\n",
    "import string\n",
    "import nltk\n",
    "from nltk.corpus import stopwords\n",
    "\n",
    "\n",
    "args = {\n",
    "    'n0':1e-5,\n",
    "    'beta':1e-4,\n",
    "    'epsilon':1e-6,\n",
    "    'maxiters':10\n",
    "     }\n",
    "    ###################################################################################\n",
    "\n",
    "    # Create object to load comments, perform linear regression\n",
    "redcoms = p1.RedditComments()\n",
    "redcoms.load()\n",
    "\n",
    "    \n",
    "    # Preprocess text, inputs into integers to be formatted into data matrix\n",
    "text_train, X_train, y_train = redcoms.preprocess(redcoms.data[:10000])\n",
    "text_val, X_val, y_val = redcoms.preprocess(redcoms.data[10000:11000])\n",
    "text_test, X_test, y_test = redcoms.preprocess(redcoms.data[11000:12000])\n",
    "\n",
    "\n",
    "        \n",
    "    # No text Features.        \n",
    "    \n",
    "\n",
    "X_val = redcoms.add_features(X_val, text_val, closed_form=False, text_features=False, swear_words=True, size_comment=True,common_word_count=True);\n",
    "\n"
   ]
  }
 ],
 "metadata": {
  "kernelspec": {
   "display_name": "Python 3",
   "language": "python",
   "name": "python3"
  },
  "language_info": {
   "codemirror_mode": {
    "name": "ipython",
    "version": 3
   },
   "file_extension": ".py",
   "mimetype": "text/x-python",
   "name": "python",
   "nbconvert_exporter": "python",
   "pygments_lexer": "ipython3",
   "version": "3.7.1"
  }
 },
 "nbformat": 4,
 "nbformat_minor": 2
}
