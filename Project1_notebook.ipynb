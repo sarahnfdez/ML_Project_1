{
 "cells": [
  {
   "cell_type": "code",
   "execution_count": 2,
   "metadata": {},
   "outputs": [
    {
     "name": "stdout",
     "output_type": "stream",
     "text": [
      "SGD mean training squared error: 1.1262377022912895\n",
      "Closed Form mean valid squared error:    1.067853447155445\n"
     ]
    }
   ],
   "source": [
    "import proj1_data_loading as p1\n",
    "import json \n",
    "import collections\n",
    "import numpy as np\n",
    "import argparse\n",
    "import string\n",
    "import nltk\n",
    "from nltk.corpus import stopwords\n",
    "\n",
    "redcoms = p1.RedditComments()\n",
    "redcoms.load()\n",
    "\n",
    "args = {\n",
    "    'n0':1e-5,\n",
    "    'beta':1e-4,\n",
    "    'epsilon':1e-6,\n",
    "    'maxiters':10\n",
    "     }\n",
    "    ###################################################################################\n",
    "\n",
    "    # Create object to load comments, perform linear regression\n",
    "\n",
    "\n",
    "    \n",
    "    # Preprocess text, inputs into integers to be formatted into data matrix\n",
    "text_train, X_train, y_train = redcoms.preprocess(redcoms.data[:10000])\n",
    "text_val, X_val, y_val = redcoms.preprocess(redcoms.data[10000:11000])\n",
    "text_test, X_test, y_test = redcoms.preprocess(redcoms.data[11000:12000])\n",
    "\n",
    "\n",
    "        \n",
    "    # No text Features.        \n",
    "    \n",
    "\n",
    "weights, error, X_train = redcoms.run_regression( closed_form=False, text_features=False, swear_words=True, size_comment=True,common_word_count=True, X=X_train, y=y_train, text=text_train, args=args )    \n",
    "X_val = redcoms.add_features(X_val, text_val, closed_form=False, text_features=False, swear_words=True, size_comment=True,common_word_count=True);\n",
    "mse, squared_error_array = redcoms.get_mse(X_val, y_val, weights)\n",
    "print(\"Closed Form mean valid squared error:    \" + str(mse[0]));\n"
   ]
  }
 ],
 "metadata": {
  "kernelspec": {
   "display_name": "Python 3",
   "language": "python",
   "name": "python3"
  },
  "language_info": {
   "codemirror_mode": {
    "name": "ipython",
    "version": 3
   },
   "file_extension": ".py",
   "mimetype": "text/x-python",
   "name": "python",
   "nbconvert_exporter": "python",
   "pygments_lexer": "ipython3",
   "version": "3.7.1"
  }
 },
 "nbformat": 4,
 "nbformat_minor": 2
}
